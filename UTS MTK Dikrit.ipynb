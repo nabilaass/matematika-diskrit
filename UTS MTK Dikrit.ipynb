{
 "cells": [
  {
   "cell_type": "code",
   "execution_count": 8,
   "metadata": {},
   "outputs": [
    {
     "name": "stdout",
     "output_type": "stream",
     "text": [
      "nilaimu: 50\n",
      "grade =  D, Kamu Ikut Remidi\n"
     ]
    }
   ],
   "source": [
    "#Nomer1Kemungkinanmetu\n",
    "nilai = int(input(\"nilaimu: \"))\n",
    "if nilai >=85:\n",
    "    grade = \"A, Kamu Lulus Ujian\"\n",
    "elif nilai >=80:\n",
    "    grade = \"B, Kamu Lulus Ujian\"\n",
    "elif nilai >= 60:\n",
    "    grade = \"C, Kamu Ikut Remidi\"\n",
    "elif nilai >=50:\n",
    "    grade = \"D, Kamu Ikut Remidi\"\n",
    "else:\n",
    "    grade + \"E\"\n",
    "    \n",
    "print(\"grade = \", grade)\n"
   ]
  },
  {
   "cell_type": "code",
   "execution_count": 10,
   "metadata": {},
   "outputs": [
    {
     "name": "stdout",
     "output_type": "stream",
     "text": [
      "94.5\n"
     ]
    }
   ],
   "source": [
    "#Nomer2Kemungkinanmetu\n",
    "Alas = 9\n",
    "Tinggi = 21\n",
    "def Luas_Segitiga():\n",
    "    luas = 1/2*Alas*Tinggi\n",
    "    return luas\n",
    "print(Luas_Segitiga())"
   ]
  },
  {
   "cell_type": "code",
   "execution_count": 11,
   "metadata": {},
   "outputs": [
    {
     "name": "stdout",
     "output_type": "stream",
     "text": [
      "144.0\n"
     ]
    }
   ],
   "source": [
    "Alas2 = 12\n",
    "Tinggi2 = 24\n",
    "def Luas_Segitiga2():\n",
    "    luas2 = 1/2*Alas2*Tinggi2\n",
    "    return luas2\n",
    "print(Luas_Segitiga2())"
   ]
  },
  {
   "cell_type": "code",
   "execution_count": 12,
   "metadata": {},
   "outputs": [
    {
     "name": "stdout",
     "output_type": "stream",
     "text": [
      "14400.0\n"
     ]
    }
   ],
   "source": [
    "Alas3 = 120\n",
    "Tinggi3 = 240\n",
    "def Luas_Segitiga3():\n",
    "    luas2 = 1/2*Alas3*Tinggi3\n",
    "    return luas2\n",
    "print(Luas_Segitiga3())"
   ]
  },
  {
   "cell_type": "code",
   "execution_count": 13,
   "metadata": {},
   "outputs": [
    {
     "name": "stdout",
     "output_type": "stream",
     "text": [
      "14544.0\n"
     ]
    }
   ],
   "source": [
    "Hasil = Luas_Segitiga2() + Luas_Segitiga3()\n",
    "print(Hasil)"
   ]
  },
  {
   "cell_type": "code",
   "execution_count": 14,
   "metadata": {},
   "outputs": [
    {
     "name": "stdout",
     "output_type": "stream",
     "text": [
      "14256.0\n"
     ]
    }
   ],
   "source": [
    "Hasil2 = Luas_Segitiga3() - Luas_Segitiga2()\n",
    "print(Hasil2)"
   ]
  },
  {
   "cell_type": "code",
   "execution_count": 19,
   "metadata": {},
   "outputs": [
    {
     "name": "stdout",
     "output_type": "stream",
     "text": [
      "===========================================================================================================================\n",
      "{1, 2, 3, 4, 5, 6, 7, 8, 9, 10, 11, 12, 13, 14, 15, 16, 17, 18, 19, 20, 21, 22, 23, 24, 25, 26, 27, 28, 29, 30, 31, 32, 33, 34, 35, 36, 37, 38, 39, 40, 41, 42, 43, 44, 45, 46, 47, 48, 49, 50, 51, 52, 53, 54, 55, 56, 57, 58, 59, 60, 61, 62, 63, 64, 65, 66, 67, 68, 69, 70, 71, 72, 73, 74, 75, 76, 77, 78, 79, 80, 81, 82, 83, 84, 85, 86, 87, 88, 89, 90, 91, 92, 93, 94, 95, 96, 97, 98, 99, 100, 101, 102, 103, 104, 105, 106, 107, 108, 109, 110, 111, 112, 113, 114, 115, 116, 117, 118, 119, 120, 121, 122, 123, 124, 125, 126, 127, 128, 129, 130, 131, 132, 133, 134, 135, 136, 137, 138, 139, 140, 141, 142, 143, 144, 145, 146, 147, 148, 149, 150, 151, 152, 153, 154, 155, 156, 157, 158, 159, 160, 161, 162, 163, 164, 165, 166, 167, 168, 169, 170, 171, 172, 173, 174, 175, 176, 177, 178, 179, 180, 181, 182, 183, 184, 185, 186, 187, 188, 189, 190, 191, 192, 193, 194, 195, 196, 197, 198, 199, 200}\n",
      "===========================================================================================================================\n",
      "(1, 2, 3, 4, 5, 6, 7, 8, 9, 10, 11, 12, 13, 14, 15, 16, 17, 18, 19, 20, 21, 22, 23, 24, 25, 26, 27, 28, 29, 30, 31, 32, 33, 34, 35, 36, 37, 38, 39, 40, 41, 42, 43, 44, 45, 46, 47, 48, 49, 50, 51, 52, 53, 54, 55, 56, 57, 58, 59, 60, 61, 62, 63, 64, 65, 66, 67, 68, 69, 70, 71, 72, 73, 74, 75, 76, 77, 78, 79, 80, 81, 82, 83, 84, 85, 86, 87, 88, 89, 90, 91, 92, 93, 94, 95, 96, 97, 98, 99, 100, 101, 102, 103, 104, 105, 106, 107, 108, 109, 110, 111, 112, 113, 114, 115, 116, 117, 118, 119, 120, 121, 122, 123, 124, 125, 126, 127, 128, 129, 130, 131, 132, 133, 134, 135, 136, 137, 138, 139, 140, 141, 142, 143, 144, 145, 146, 147, 148, 149, 150, 151, 152, 153, 154, 155, 156, 157, 158, 159, 160, 161, 162, 163, 164, 165, 166, 167, 168, 169, 170, 171, 172, 173, 174, 175, 176, 177, 178, 179, 180, 181, 182, 183, 184, 185, 186, 187, 188, 189, 190, 191, 192, 193, 194, 195, 196, 197, 198, 199, 200)\n",
      "===========================================================================================================================\n",
      "[1, 2, 3, 4, 5, 6, 7, 8, 9, 10, 11, 12, 13, 14, 15, 16, 17, 18, 19, 20, 21, 22, 23, 24, 25, 26, 27, 28, 29, 30, 31, 32, 33, 34, 35, 36, 37, 38, 39, 40, 41, 42, 43, 44, 45, 46, 47, 48, 49, 50, 51, 52, 53, 54, 55, 56, 57, 58, 59, 60, 61, 62, 63, 64, 65, 66, 67, 68, 69, 70, 71, 72, 73, 74, 75, 76, 77, 78, 79, 80, 81, 82, 83, 84, 85, 86, 87, 88, 89, 90, 91, 92, 93, 94, 95, 96, 97, 98, 99, 100, 101, 102, 103, 104, 105, 106, 107, 108, 109, 110, 111, 112, 113, 114, 115, 116, 117, 118, 119, 120, 121, 122, 123, 124, 125, 126, 127, 128, 129, 130, 131, 132, 133, 134, 135, 136, 137, 138, 139, 140, 141, 142, 143, 144, 145, 146, 147, 148, 149, 150, 151, 152, 153, 154, 155, 156, 157, 158, 159, 160, 161, 162, 163, 164, 165, 166, 167, 168, 169, 170, 171, 172, 173, 174, 175, 176, 177, 178, 179, 180, 181, 182, 183, 184, 185, 186, 187, 188, 189, 190, 191, 192, 193, 194, 195, 196, 197, 198, 199, 200]\n",
      "===========================================================================================================================\n",
      "<class 'set'>\n",
      "<class 'tuple'>\n",
      "<class 'list'>\n"
     ]
    }
   ],
   "source": [
    "#Nomer3Kemungkinanmetu\n",
    "Bilangan_Set = (set(range(1,201)))\n",
    "Bilangan_Tuple = (tuple(range(1,201)))\n",
    "Bilangan_List = (list(range(1,201)))\n",
    "print(\"=\"*123)\n",
    "print(Bilangan_Set)\n",
    "print(\"=\"*123)\n",
    "print(Bilangan_Tuple)\n",
    "print(\"=\"*123)\n",
    "print(Bilangan_List)\n",
    "print(\"=\"*123)\n",
    "print(type(Bilangan_Set))\n",
    "print(type(Bilangan_Tuple))\n",
    "print(type(Bilangan_List))"
   ]
  },
  {
   "cell_type": "code",
   "execution_count": 20,
   "metadata": {},
   "outputs": [
    {
     "name": "stdout",
     "output_type": "stream",
     "text": [
      "200\n",
      "300\n",
      "(200, 201, 202, 203, 204, 205, 206, 207, 208, 209, 210, 211, 212, 213, 214, 215, 216, 217, 218, 219, 220, 221, 222, 223, 224, 225, 226, 227, 228, 229, 230, 231, 232, 233, 234, 235, 236, 237, 238, 239, 240, 241, 242, 243, 244, 245, 246, 247, 248, 249, 250, 251, 252, 253, 254, 255, 256, 257, 258, 259, 260, 261, 262, 263, 264, 265, 266, 267, 268, 269, 270, 271, 272, 273, 274, 275, 276, 277, 278, 279, 280, 281, 282, 283, 284, 285, 286, 287, 288, 289, 290, 291, 292, 293, 294, 295, 296, 297, 298, 299)\n",
      "44850\n",
      "44950\n",
      "45250\n"
     ]
    }
   ],
   "source": [
    "Bilangan_Pertama = (tuple(range(0,200)))\n",
    "Bilangan_Kedua = (tuple(range(200,300)))\n",
    "Jumlah = (Bilangan_Pertama+Bilangan_Kedua)\n",
    "print(len(Bilangan_Pertama))\n",
    "print(len(Jumlah))\n",
    "print(Jumlah[200:300])\n",
    "print(sum(Jumlah))\n",
    "print(sum(Jumlah,100))\n",
    "print(sum(Jumlah,400))"
   ]
  },
  {
   "cell_type": "code",
   "execution_count": 21,
   "metadata": {},
   "outputs": [
    {
     "name": "stdout",
     "output_type": "stream",
     "text": [
      "Masukkan Bilangan Desimal = 20090058\n",
      "1001100101000110011001010 114506312 1328cca\n"
     ]
    }
   ],
   "source": [
    "#Nomer4Kemungkinanmetu\n",
    "desimal = int(input('Masukkan Bilangan Desimal = '))\n",
    "\n",
    "biner = bin(desimal) .replace(\"0b\",\"\")\n",
    "oktal = oct(desimal) .replace(\"0o\",\"\")\n",
    "hexa = hex(desimal) .replace(\"0x\",\"\")\n",
    "print(biner,oktal,hexa)"
   ]
  },
  {
   "cell_type": "code",
   "execution_count": 22,
   "metadata": {},
   "outputs": [
    {
     "name": "stdout",
     "output_type": "stream",
     "text": [
      "Masukkan nilai binernya = 20090058\n",
      "Nilai desimal-nya adalah 418\n",
      "Nilai hexa-nya adalah 1a2\n",
      "Nilai okta-nya adalah 642\n"
     ]
    }
   ],
   "source": [
    "biner = input(\"Masukkan nilai binernya = \")\n",
    "desimal = 0# 8,0,2,1\n",
    "pangkat = len(biner)-1 #3,2,1,0\n",
    "for i in range(len(biner)):#4\n",
    "    idesimal = int(biner[i])* 2** pangkat\n",
    "    desimal += idesimal\n",
    "    pangkat -= 1\n",
    "print(\"Nilai desimal-nya adalah\",desimal)\n",
    "print(\"Nilai hexa-nya adalah\",hex(desimal).replace(\"0x\",\"\"))\n",
    "print(\"Nilai okta-nya adalah\",oct(desimal).replace(\"0o\",\"\"))"
   ]
  },
  {
   "cell_type": "code",
   "execution_count": 23,
   "metadata": {},
   "outputs": [
    {
     "name": "stdout",
     "output_type": "stream",
     "text": [
      "Masukan angka desimal :5\n",
      "\n",
      "Hasilnya adalah :  10\n",
      "\n"
     ]
    }
   ],
   "source": [
    "desimal = int(input('Masukan angka desimal :'))\n",
    "tampil = ''\n",
    "cetak = []\n",
    "print ('')\n",
    "while desimal != 0:\n",
    "    hasil = desimal % 5\n",
    "    cetak.insert(0, str(hasil))\n",
    "    desimal = desimal//5\n",
    "    if desimal == 0:\n",
    "        for i in range (len(cetak)):\n",
    "            tampil += cetak[i]\n",
    "print('Hasilnya adalah : ', tampil)\n",
    "print('')"
   ]
  },
  {
   "cell_type": "code",
   "execution_count": 24,
   "metadata": {},
   "outputs": [
    {
     "name": "stdout",
     "output_type": "stream",
     "text": [
      "Masukan Angka = 5\n",
      "Masukan Angka = 7\n",
      "479001600\n"
     ]
    }
   ],
   "source": [
    "#Nomer5Kemungkinanmetu\n",
    "def faktorial(a):\n",
    "    if a ==1:\n",
    "        return(a)\n",
    "    else: \n",
    "        return (a*faktorial(a-1)) # 12x...x5x4x3x2x1 1 berhenti smpe faktorial abis di 1\n",
    "angka1 = int(input(\"Masukan Angka = \"))\n",
    "angka2 = int(input(\"Masukan Angka = \"))\n",
    "\n",
    "print(faktorial(angka1+angka2))    "
   ]
  },
  {
   "cell_type": "code",
   "execution_count": 25,
   "metadata": {},
   "outputs": [
    {
     "name": "stdout",
     "output_type": "stream",
     "text": [
      "248832\n"
     ]
    }
   ],
   "source": [
    "def pangkat(x,y):\n",
    "    if y ==0:\n",
    "        return 1\n",
    "    else :\n",
    "        return(x*pangkat(x,y-1))\n",
    "print(pangkat(12,5))"
   ]
  },
  {
   "cell_type": "code",
   "execution_count": 26,
   "metadata": {},
   "outputs": [
    {
     "name": "stdout",
     "output_type": "stream",
     "text": [
      "Hasil deret Fibonaccinya adalah :\n",
      "0 1 1 2 3 5 8 13 21 34 55 89 "
     ]
    }
   ],
   "source": [
    "#Fibonaccinya\n",
    "a = 12\n",
    "def x(a):\n",
    "    if a == 0 or a== 1:\n",
    "        return a\n",
    "    else :\n",
    "        return(x(a-1)+x(a-2))\n",
    "print(\"Hasil deret Fibonaccinya adalah :\")\n",
    "for i in range (a):\n",
    "    print(x(i),end=' ')\n",
    "    "
   ]
  },
  {
   "cell_type": "code",
   "execution_count": 27,
   "metadata": {},
   "outputs": [
    {
     "name": "stdout",
     "output_type": "stream",
     "text": [
      "28668\n"
     ]
    }
   ],
   "source": [
    "def rumus(x):\n",
    "    if x==0:\n",
    "        return 3\n",
    "    else :\n",
    "        return 2 * rumus(x-1) + 4\n",
    "print(rumus(12))"
   ]
  },
  {
   "cell_type": "code",
   "execution_count": null,
   "metadata": {},
   "outputs": [],
   "source": []
  }
 ],
 "metadata": {
  "kernelspec": {
   "display_name": "Python 3",
   "language": "python",
   "name": "python3"
  },
  "language_info": {
   "codemirror_mode": {
    "name": "ipython",
    "version": 3
   },
   "file_extension": ".py",
   "mimetype": "text/x-python",
   "name": "python",
   "nbconvert_exporter": "python",
   "pygments_lexer": "ipython3",
   "version": "3.8.3"
  }
 },
 "nbformat": 4,
 "nbformat_minor": 4
}
