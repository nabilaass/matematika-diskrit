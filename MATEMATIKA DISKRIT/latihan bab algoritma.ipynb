{
 "cells": [
  {
   "cell_type": "code",
   "execution_count": null,
   "metadata": {},
   "outputs": [],
   "source": [
    "# Meminta masukan : input()\n",
    "# Memeriksa dan menentukan hasil : if … elif … else\n",
    "#Mencetak : print\n",
    "\n",
    "# setelah itu mengimplementasikan algoritma tersebut dalam logika pemrograman :\n",
    "\n",
    "x = input (\"masukkan angka pertama : \")\n",
    "y = input (\"masukkan angka kedua : \")\n",
    "if x > y :\n",
    "    print (\"angka pertama lebih besar dari angka kedua yaitu angka \",x)\n",
    "elif x < y :\n",
    "    print (\"angka pertama lebih kecil dari angka kedua yaitu angka\",y)\n",
    "elif x==y :\n",
    "    print (\"kedua angka sama \")\n",
    "else:\n",
    "    print(\"ADA KESALAHAN SAAT MENGINPUT\")"
   ]
  },
  {
   "cell_type": "code",
   "execution_count": null,
   "metadata": {},
   "outputs": [],
   "source": [
    "x = input (\"masukkan angka pertama : \")\n",
    "y = input (\"masukkan angka kedua : \")\n",
    "if x > y :\n",
    "    print (\"nilai terbesar : \", x)\n",
    "elif x < y :\n",
    "    print (\"nilai terbesar : \", y)\n",
    "elif x==y :\n",
    "    print (\"kedua angka sama \")\n",
    "else:\n",
    "    print(\"ADA KESALAHAN SAAT MENGINPUT\")"
   ]
  },
  {
   "cell_type": "code",
   "execution_count": 4,
   "metadata": {},
   "outputs": [
    {
     "name": "stdout",
     "output_type": "stream",
     "text": [
      "Membuat program menghitung luas segitiga A \n",
      "panjang alas segitiga = 9\n",
      "tinggi segitiga = 21\n",
      "sehingga luas segitiga A = 94.5\n",
      "\n",
      "Membuat program menghitung luas segitiga B = \n",
      "panjang alas segitiga =  12\n",
      "tinggi segitiga =  24\n",
      "sehingga luas segitiga B =  144.0\n",
      "Membuat program menghitung luas segitiga C = \n",
      "panjang alas segitiga ke C =  90\n",
      "tinggi segitiga ke C =  210\n",
      "sehingga luas segitiga =  9450.0\n",
      "Membuat program menghitung jumlah luas B dan C = \n",
      "Hasil luas segitiga B + C = 9594.0\n",
      "Membuat program menghitung jumlah luas C dikurangi luas segitiga B = \n",
      "Hasil luas segitiga C - luas segitiga B = 9306.0\n"
     ]
    }
   ],
   "source": [
    "#A. sebuah program yang menghitung luas segitiga dengan ukuran alas 9 dan tinggi 21!\n",
    "print(\"Membuat program menghitung luas segitiga A \")\n",
    "alasA = 9 \n",
    "tinggiA = 21\n",
    "luas_segitigaA = 0.5 * alasA * tinggiA\n",
    "print(\"panjang alas segitiga =\",alasA)\n",
    "print(\"tinggi segitiga =\",tinggiA)\n",
    "print(\"sehingga luas segitiga A =\",luas_segitigaA)\n",
    "print(\"\")\n",
    "\n",
    "\n",
    "\n",
    "#B. Hitung luas yang ditambahkan 3 masing masing ukuran\n",
    "print(\"Membuat program menghitung luas segitiga B = \")\n",
    "alasB = alasA + 3\n",
    "tinggiB = tinggiA + 3\n",
    "luas_segitigaB = 0.5 * alasB * tinggiB\n",
    "print(\"panjang alas segitiga = \",alasB)\n",
    "print(\"tinggi segitiga = \",tinggiB)\n",
    "print(\"sehingga luas segitiga B = \",luas_segitigaB)\n",
    "print(\"\")\n",
    "\n",
    "\n",
    "\n",
    "\n",
    "#C. Hitung luas setelah di kalikan ukuran masing- masing 10\n",
    "print(\"Membuat program menghitung luas segitiga C = \")\n",
    "alasC = alasA * 10\n",
    "tinggiC = tinggiA * 10\n",
    "luas_segitigaC = 0.5 * alasC * tinggiC\n",
    "print(\"panjang alas segitiga ke C = \",alasC)\n",
    "print(\"tinggi segitiga ke C = \",tinggiC)\n",
    "print(\"sehingga luas segitiga = \",luas_segitigaC)\n",
    "print(\"\")\n",
    "\n",
    "\n",
    "\n",
    "\n",
    "#D. Hasil luas nilai b dan c ditambahkan\n",
    "print(\"Membuat program menghitung jumlah luas B dan C = \")\n",
    "jumlah = (luas_segitigaB + luas_segitigaC)\n",
    "print (\"Hasil luas segitiga B + C =\", jumlah)\n",
    "print(\"\")\n",
    "\n",
    "\n",
    "\n",
    "\n",
    "#E. Hasil luas nilai c dikurangi b\n",
    "print(\"Membuat program menghitung jumlah luas C dikurangi luas segitiga B = \")\n",
    "jumlah_luas = (luas_segitigaC - luas_segitigaB)\n",
    "print (\"Hasil luas segitiga C - luas segitiga B =\", jumlah_luas)"
   ]
  }
 ],
 "metadata": {
  "kernelspec": {
   "display_name": "Python 3",
   "language": "python",
   "name": "python3"
  },
  "language_info": {
   "codemirror_mode": {
    "name": "ipython",
    "version": 3
   },
   "file_extension": ".py",
   "mimetype": "text/x-python",
   "name": "python",
   "nbconvert_exporter": "python",
   "pygments_lexer": "ipython3",
   "version": "3.8.3"
  }
 },
 "nbformat": 4,
 "nbformat_minor": 4
}
