{
 "cells": [
  {
   "cell_type": "code",
   "execution_count": 12,
   "metadata": {},
   "outputs": [
    {
     "name": "stdout",
     "output_type": "stream",
     "text": [
      "CETAK BILANGAN 1 - 150 -->\n",
      "(1, 2, 3, 4, 5, 6, 7, 8, 9, 10, 11, 12, 13, 14, 15, 16, 17, 18, 19, 20, 21, 22, 23, 24, 25, 26, 27, 28, 29, 30, 31, 32, 33, 34, 35, 36, 37, 38, 39, 40, 41, 42, 43, 44, 45, 46, 47, 48, 49, 50, 51, 52, 53, 54, 55, 56, 57, 58, 59, 60, 61, 62, 63, 64, 65, 66, 67, 68, 69, 70, 71, 72, 73, 74, 75, 76, 77, 78, 79, 80, 81, 82, 83, 84, 85, 86, 87, 88, 89, 90, 91, 92, 93, 94, 95, 96, 97, 98, 99, 100, 101, 102, 103, 104, 105, 106, 107, 108, 109, 110, 111, 112, 113, 114, 115, 116, 117, 118, 119, 120, 121, 122, 123, 124, 125, 126, 127, 128, 129, 130, 131, 132, 133, 134, 135, 136, 137, 138, 139, 140, 141, 142, 143, 144, 145, 146, 147, 148, 149, 150)\n",
      "CETAK BILANGAN 1 - 150 -->\n",
      "(1, 2, 3, 4, 5, 6, 7, 8, 9, 10, 11, 12, 13, 14, 15, 16, 17, 18, 19, 20, 21, 22, 23, 24, 25, 26, 27, 28, 29, 30, 31, 32, 33, 34, 35, 36, 37, 38, 39, 40, 41, 42, 43, 44, 45, 46, 47, 48, 49, 50, 51, 52, 53, 54, 55, 56, 57, 58, 59, 60, 61, 62, 63, 64, 65, 66, 67, 68, 69, 70, 71, 72, 73, 74, 75, 76, 77, 78, 79, 80, 81, 82, 83, 84, 85, 86, 87, 88, 89, 90, 91, 92, 93, 94, 95, 96, 97, 98, 99, 100)\n"
     ]
    }
   ],
   "source": [
    "#BILANGAN 1 - 150\n",
    "print(\"CETAK BILANGAN 1 - 150 -->\")\n",
    "bilangan = tuple (range(1, 151))\n",
    "print (bilangan)\n",
    "#BILANGAN 1 - 100\n",
    "print(\"CETAK BILANGAN 1 - 150 -->\")\n",
    "bilangan = tuple (range(1, 101))\n",
    "print (bilangan)"
   ]
  },
  {
   "cell_type": "code",
   "execution_count": 2,
   "metadata": {},
   "outputs": [
    {
     "name": "stdout",
     "output_type": "stream",
     "text": [
      "NOMOR 1. CARI TUPLE, LIST, DAN SET DARI BILANGAN 1-150\n",
      "data menggunakan tuple\n",
      "<class 'tuple'>\n",
      "data menggunakan list\n",
      "<class 'list'>\n",
      "data menggunakan set\n",
      "<class 'set'>\n"
     ]
    }
   ],
   "source": [
    "print (\"NOMOR 1. CARI TUPLE, LIST, DAN SET DARI BILANGAN 1-150\")\n",
    "\n",
    "#tuple\n",
    "print (\"data menggunakan class\")\n",
    "bilangan = tuple(range(1, 151))\n",
    "print (type(bilangan))\n",
    "\n",
    "#list\n",
    "print (\"data menggunakan class\")\n",
    "bilangan = list(range(1, 151))\n",
    "print (type(bilangan))\n",
    "\n",
    "#set\n",
    "print (\"data menggunakan class\")\n",
    "bilangan = set(range(1, 151))\n",
    "print (type(bilangan))\n"
   ]
  },
  {
   "cell_type": "code",
   "execution_count": 15,
   "metadata": {},
   "outputs": [
    {
     "name": "stdout",
     "output_type": "stream",
     "text": [
      "NOMOR 2. MENAMBAHKAN DATA PERTAMA DAN DATA KEDUA\n",
      "data pertama =  (1, 2, 3, 4, 5, 6, 7, 8, 9, 10, 11, 12, 13, 14, 15, 16, 17, 18, 19, 20, 21, 22, 23, 24, 25, 26, 27, 28, 29, 30, 31, 32, 33, 34, 35, 36, 37, 38, 39, 40, 41, 42, 43, 44, 45, 46, 47, 48, 49, 50, 51, 52, 53, 54, 55, 56, 57, 58, 59, 60, 61, 62, 63, 64, 65, 66, 67, 68, 69, 70, 71, 72, 73, 74, 75, 76, 77, 78, 79, 80, 81, 82, 83, 84, 85, 86, 87, 88, 89, 90, 91, 92, 93, 94, 95, 96, 97, 98, 99, 100, 101, 102, 103, 104, 105, 106, 107, 108, 109, 110, 111, 112, 113, 114, 115, 116, 117, 118, 119, 120, 121, 122, 123, 124, 125, 126, 127, 128, 129, 130, 131, 132, 133, 134, 135, 136, 137, 138, 139, 140, 141, 142, 143, 144, 145, 146, 147, 148, 149, 150)\n",
      "data kedua = (1, 2, 3, 4, 5, 6, 7, 8, 9, 10, 11, 12, 13, 14, 15, 16, 17, 18, 19, 20, 21, 22, 23, 24, 25, 26, 27, 28, 29, 30, 31, 32, 33, 34, 35, 36, 37, 38, 39, 40, 41, 42, 43, 44, 45, 46, 47, 48, 49, 50, 51, 52, 53, 54, 55, 56, 57, 58, 59, 60, 61, 62, 63, 64, 65, 66, 67, 68, 69, 70, 71, 72, 73, 74, 75, 76, 77, 78, 79, 80, 81, 82, 83, 84, 85, 86, 87, 88, 89, 90, 91, 92, 93, 94, 95, 96, 97, 98, 99, 100)\n",
      "total kedua data adalah = (1, 2, 3, 4, 5, 6, 7, 8, 9, 10, 11, 12, 13, 14, 15, 16, 17, 18, 19, 20, 21, 22, 23, 24, 25, 26, 27, 28, 29, 30, 31, 32, 33, 34, 35, 36, 37, 38, 39, 40, 41, 42, 43, 44, 45, 46, 47, 48, 49, 50, 51, 52, 53, 54, 55, 56, 57, 58, 59, 60, 61, 62, 63, 64, 65, 66, 67, 68, 69, 70, 71, 72, 73, 74, 75, 76, 77, 78, 79, 80, 81, 82, 83, 84, 85, 86, 87, 88, 89, 90, 91, 92, 93, 94, 95, 96, 97, 98, 99, 100, 101, 102, 103, 104, 105, 106, 107, 108, 109, 110, 111, 112, 113, 114, 115, 116, 117, 118, 119, 120, 121, 122, 123, 124, 125, 126, 127, 128, 129, 130, 131, 132, 133, 134, 135, 136, 137, 138, 139, 140, 141, 142, 143, 144, 145, 146, 147, 148, 149, 150, 1, 2, 3, 4, 5, 6, 7, 8, 9, 10, 11, 12, 13, 14, 15, 16, 17, 18, 19, 20, 21, 22, 23, 24, 25, 26, 27, 28, 29, 30, 31, 32, 33, 34, 35, 36, 37, 38, 39, 40, 41, 42, 43, 44, 45, 46, 47, 48, 49, 50, 51, 52, 53, 54, 55, 56, 57, 58, 59, 60, 61, 62, 63, 64, 65, 66, 67, 68, 69, 70, 71, 72, 73, 74, 75, 76, 77, 78, 79, 80, 81, 82, 83, 84, 85, 86, 87, 88, 89, 90, 91, 92, 93, 94, 95, 96, 97, 98, 99, 100)\n"
     ]
    }
   ],
   "source": [
    "print (\"NOMOR 2. MENAMBAHKAN DATA PERTAMA DAN DATA KEDUA\")\n",
    "\n",
    "data_pertama = tuple(range(1, 151))\n",
    "print (\"data pertama = \" ,data_pertama)\n",
    "data_kedua = tuple(range(1, 101))\n",
    "print (\"data kedua =\" , data_kedua)\n",
    "kedua_data = (data_pertama + data_kedua)\n",
    "print (\"total kedua data adalah =\" ,kedua_data)"
   ]
  },
  {
   "cell_type": "code",
   "execution_count": 16,
   "metadata": {},
   "outputs": [
    {
     "name": "stdout",
     "output_type": "stream",
     "text": [
      "NOMOR 3. LEN BILANGAN ANGKA\n",
      "Jumlah data pertama = 150\n",
      "Jumlah data kedua = 100\n",
      "Hasil penjumlahan data pertama dan data kedua adalah 250 \n"
     ]
    }
   ],
   "source": [
    "print (\"NOMOR 3. LEN BILANGAN ANGKA\")\n",
    "print(\"Jumlah data pertama = %d\" % len (data_pertama))   #len berfungsi untuk menjumlahkan item\n",
    "print(\"Jumlah data kedua = %d\" %len (data_kedua))\n",
    "print (\"Hasil penjumlahan data pertama dan data kedua adalah %d \" %len(kedua_data))"
   ]
  },
  {
   "cell_type": "code",
   "execution_count": 17,
   "metadata": {},
   "outputs": [
    {
     "name": "stdout",
     "output_type": "stream",
     "text": [
      "NOMOR 4. PEMOTONGAN PADA (1:15) & (2:100)\n",
      "pemotongan pada (2 : 100)\n",
      "(2, 3, 4, 5, 6, 7, 8, 9, 10, 11, 12, 13, 14, 15)\n",
      "pemotongan pada (2 : 100)\n",
      "(3, 4, 5, 6, 7, 8, 9, 10, 11, 12, 13, 14, 15, 16, 17, 18, 19, 20, 21, 22, 23, 24, 25, 26, 27, 28, 29, 30, 31, 32, 33, 34, 35, 36, 37, 38, 39, 40, 41, 42, 43, 44, 45, 46, 47, 48, 49, 50, 51, 52, 53, 54, 55, 56, 57, 58, 59, 60, 61, 62, 63, 64, 65, 66, 67, 68, 69, 70, 71, 72, 73, 74, 75, 76, 77, 78, 79, 80, 81, 82, 83, 84, 85, 86, 87, 88, 89, 90, 91, 92, 93, 94, 95, 96, 97, 98, 99, 100)\n"
     ]
    }
   ],
   "source": [
    "print (\"NOMOR 4. PEMOTONGAN PADA (1:15) & (2:100)\")\n",
    "print (\"pemotongan pada (2 : 100)\")\n",
    "print(data_kedua[1 : 15])\n",
    "print (\"pemotongan pada (2 : 100)\")\n",
    "print(data_kedua[2 : 100])\n"
   ]
  },
  {
   "cell_type": "code",
   "execution_count": 2,
   "metadata": {},
   "outputs": [
    {
     "name": "stdout",
     "output_type": "stream",
     "text": [
      " NOMOR 5. AKSES NILAI INDEKS KE 35 , 69, 75\n",
      "36\n",
      "70\n",
      "76\n"
     ]
    }
   ],
   "source": [
    "print (\"NOMOR 5. MENGAKSES NILAI INDEKS KE 35 , 69, 75\")\n",
    "print(data_kedua[35])  #indeks ini berfungsi untuk mencari item setelahnya\n",
    "print(data_kedua[69])\n",
    "print(data_kedua[75])"
   ]
  },
  {
   "cell_type": "code",
   "execution_count": 3,
   "metadata": {},
   "outputs": [
    {
     "name": "stdout",
     "output_type": "stream",
     "text": [
      "NOMOR 6. MENCARI SUMMATION POWERSETS\n",
      "jumlah data ada --> \n",
      "16125\n"
     ]
    }
   ],
   "source": [
    "print (\"NOMOR 6. MENCARI SUMMATION POWERSETS\")\n",
    "print(\"jumlah data ada --> \")\n",
    "print(sum(kedua_data)) #sum berfungsi menjumlahkan semua data atau item"
   ]
  }
 ],
 "metadata": {
  "kernelspec": {
   "display_name": "Python 3",
   "language": "python",
   "name": "python3"
  },
  "language_info": {
   "codemirror_mode": {
    "name": "ipython",
    "version": 3
   },
   "file_extension": ".py",
   "mimetype": "text/x-python",
   "name": "python",
   "nbconvert_exporter": "python",
   "pygments_lexer": "ipython3",
   "version": "3.8.3"
  }
 },
 "nbformat": 4,
 "nbformat_minor": 4
}
