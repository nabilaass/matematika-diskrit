{
 "cells": [
  {
   "cell_type": "code",
   "execution_count": null,
   "metadata": {},
   "outputs": [],
   "source": [
    "1) Def berasal dari kata Definition dan harus ada untuk mendefinisikan fungsi. Selanjutnya harus ada nama fungsi. Dalam contoh kasus diatas nama fungsi tersebut adalah Terbilang.\n",
    "2) List adalah suatu bentuk daftar yang muttable (dapat berubah-ubah elemen-elemenya). List disini adalah angka dan nilai list-nya adalah [“”,“Satu”,“Dua”,“Tiga”,“Empat”,“Lima”,“Enam”,“Tujuh”,”Delapan”,”Sembilan”,”Sepuluh”,”Sebelas”]. List disini bekerja memproses dari input angka diubah bentuknya menjadi kumpulan kumpulan kata.\n",
    "3) Fungsi if  dari program terbilang yaitu bertujuan untuk kemungkinan suatu nilai kurang dari atau sama dengan angka 0 sampai dengan angka 11.\n",
    "4) Elif sendiri adalah kependekan dari else dan if. Pada gambar diatas fungsi dari elif itu sendiri adalah menyatakan perulangan kemungkinan dari fungsi if diatasnya.\n",
    "5) Else digunakan beberapa syarat dalam proses iterasi. Sebagaimana yang dilakukan oleh elif. Else pada program terbilang menyatakan perulangan dari if yang memiliki kemungkinan sebuah input tidak terindeks oleh if maupun elif.\n",
    "6) While berguna untuk menentukan suatu bilangan yang akan ditentukan. Apabila fungsi while sudah ditetapkan maka bilangan yang akan di input harus mutlak dari apa yang sudah ditentukan.\n",
    "7) Return pada program terbilang digunakan untuk mengembalikan hasil yang telah di proses.\n",
    "8) Sedangkan Continue memiliki arti yaitu berlanjut. Fungsi ini sendiri berguna untuk melanjutkan output agar berjalan secara continue dan tidak berhenti sampai pengguna memberikan perintah exit."
   ]
  }
 ],
 "metadata": {
  "kernelspec": {
   "display_name": "Python 3",
   "language": "python",
   "name": "python3"
  },
  "language_info": {
   "codemirror_mode": {
    "name": "ipython",
    "version": 3
   },
   "file_extension": ".py",
   "mimetype": "text/x-python",
   "name": "python",
   "nbconvert_exporter": "python",
   "pygments_lexer": "ipython3",
   "version": "3.8.3"
  }
 },
 "nbformat": 4,
 "nbformat_minor": 4
}
