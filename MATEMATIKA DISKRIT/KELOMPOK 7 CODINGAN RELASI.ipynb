{
 "cells": [
  {
   "cell_type": "code",
   "execution_count": 9,
   "metadata": {},
   "outputs": [
    {
     "name": "stdout",
     "output_type": "stream",
     "text": [
      "A union (gabungan) B :  {0, 1, 2, 3, 4, 5, 6, 8}\n",
      "A intersection (irisan) B :  {2, 4}\n",
      "A difference (selisih) B :  {0, 8, 6}\n",
      "A komplemen (gabungan) B :  {0, 1, 3, 5, 6, 8}\n"
     ]
    }
   ],
   "source": [
    "A = {0 , 2 , 4 , 6 , 8 }\n",
    "B = {1 , 2 , 3 , 4 , 5 }\n",
    "\n",
    "print (\"A union (gabungan) B : \", A | B)\n",
    "print (\"A intersection (irisan) B : \", A & B)\n",
    "print (\"A difference (selisih) B : \", A - B)\n",
    "print (\"A komplemen (sisa) B : \", A ^ B)"
   ]
  },
  {
   "cell_type": "code",
   "execution_count": null,
   "metadata": {},
   "outputs": [],
   "source": []
  }
 ],
 "metadata": {
  "kernelspec": {
   "display_name": "Python 3",
   "language": "python",
   "name": "python3"
  },
  "language_info": {
   "codemirror_mode": {
    "name": "ipython",
    "version": 3
   },
   "file_extension": ".py",
   "mimetype": "text/x-python",
   "name": "python",
   "nbconvert_exporter": "python",
   "pygments_lexer": "ipython3",
   "version": "3.8.3"
  }
 },
 "nbformat": 4,
 "nbformat_minor": 4
}
