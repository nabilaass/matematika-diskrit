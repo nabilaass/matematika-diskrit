{
 "cells": [
  {
   "cell_type": "code",
   "execution_count": 5,
   "metadata": {},
   "outputs": [
    {
     "name": "stdout",
     "output_type": "stream",
     "text": [
      "~(a v b) = ~(a)^~(b) True\n"
     ]
    }
   ],
   "source": [
    "#no1A\n",
    "#mahasiswa ruangan ini gemar membaca atau menulis\n",
    "#mahasiswa ruangan ini tidak gemar membaca atau menulis\n",
    "#membaca = a , menulis = b\n",
    "a  = True\n",
    "b = True\n",
    "c = (not(a or b)) == ((not a)and (not b))\n",
    "print(\"~(a v b) = ~(a)^~(b) adalah \",c)"
   ]
  },
  {
   "cell_type": "code",
   "execution_count": 50,
   "metadata": {},
   "outputs": [
    {
     "name": "stdout",
     "output_type": "stream",
     "text": [
      "~(a v b) = ~(a)^~(b) adalah  True\n"
     ]
    }
   ],
   "source": [
    "#no1C\n",
    "#jenis kelamin manusia terdiri dari laki laki dan perempuan\n",
    "#lakilaki = a , perempuan = b\n",
    "a  = True\n",
    "b = False\n",
    "c = (not(a or b)) == ((not a)and (not b))\n",
    "print(\"~(a v b) = ~(a)^~(b) adalah \",c)"
   ]
  },
  {
   "cell_type": "code",
   "execution_count": 40,
   "metadata": {},
   "outputs": [
    {
     "name": "stdout",
     "output_type": "stream",
     "text": [
      "{1, 2, 3, 4, 5, 6, 7, 8, 9, 10, 11, 12, 13, 14, 15, 16, 17, 18, 19, 20}\n",
      "(1, 2, 3, 4, 5, 6, 7, 8, 9, 10, 11, 12, 13, 14, 15, 16, 17, 18, 19, 20)\n",
      "[1, 2, 3, 4, 5, 6, 7, 8, 9, 10, 11, 12, 13, 14, 15, 16, 17, 18, 19, 20]\n"
     ]
    }
   ],
   "source": [
    "#No2A\n",
    "Bilangan_Set = (set(range(1,21)))\n",
    "Bilangan_Tuple = (tuple(range(1,21)))\n",
    "Bilangan_List = (list(range(1,21)))\n",
    "print(Bilangan_Set)\n",
    "print(Bilangan_Tuple)\n",
    "print(Bilangan_List)"
   ]
  },
  {
   "cell_type": "code",
   "execution_count": 8,
   "metadata": {},
   "outputs": [
    {
     "name": "stdout",
     "output_type": "stream",
     "text": [
      "{'mie sedap', 'telur', 'nabati', 'pizza', 'hotdog', 'ayam goreng', 'gulali', 'steak', 'makaroni', 'nasgor'}\n",
      "('gulali', 'ayam goreng', 'nasgor', 'mie sedap', 'nabati', 'telur', 'steak', 'pizza', 'hotdog', 'makaroni')\n",
      "['gulali', 'ayam goreng', 'nasgor', 'mie sedap', 'nabati', 'telur', 'steak', 'pizza', 'hotdog', 'makaroni']\n"
     ]
    }
   ],
   "source": [
    "#No2C\n",
    "nama_makanan = {\"gulali\", \"ayam goreng\", \"nasgor\", \"mie sedap\", \"nabati\", \"telur\",\"steak\",\"pizza\",\"hotdog\",\"makaroni\"}\n",
    "nama_makanan2 = (\"gulali\", \"ayam goreng\", \"nasgor\", \"mie sedap\", \"nabati\", \"telur\",\"steak\",\"pizza\",\"hotdog\",\"makaroni\")\n",
    "nama_makanan3 = [\"gulali\", \"ayam goreng\", \"nasgor\", \"mie sedap\", \"nabati\", \"telur\",\"steak\",\"pizza\",\"hotdog\",\"makaroni\"]\n",
    "print (nama_makanan)\n",
    "print (nama_makanan2)\n",
    "print (nama_makanan3)"
   ]
  },
  {
   "cell_type": "code",
   "execution_count": null,
   "metadata": {},
   "outputs": [],
   "source": [
    "Prodi_set = {\"TI\", \"Farmasi\", \"DKV\", \"Teknik komputer\", \"kebidanan\", \"ASP\",\"akuntansi\",\"mesin\",\"elektro\",\"perhotelan\"}\n",
    "Prodi_tuple = (\"TI\", \"Farmasi\", \"DKV\", \"Teknik komputer\", \"kebidanan\", \"ASP\",\"akuntansi\",\"mesin\",\"elektro\",\"perhotelan\")\n",
    "prodi_list = [\"TI\", \"Farmasi\", \"DKV\", \"Teknik komputer\", \"kebidanan\", \"ASP\",\"akuntansi\",\"mesin\",\"elektro\",\"perhotelan\"]\n",
    "print (Prodi_set)\n",
    "print (Prodi_tuple)\n",
    "print (Prodi_list)"
   ]
  },
  {
   "cell_type": "code",
   "execution_count": 41,
   "metadata": {},
   "outputs": [
    {
     "name": "stdout",
     "output_type": "stream",
     "text": [
      "Masukan Nilai:90\n",
      "Maka Grade anda A, dan anda dinyatakan lulus\n"
     ]
    }
   ],
   "source": [
    "#No3A\n",
    "while (True):\n",
    "    nilai = int(input(\"Masukan Nilai:\"))\n",
    "    if nilai >= 81 and nilai <= 100:\n",
    "        print(\"Maka Grade anda A, dan anda dinyatakan lulus\")\n",
    "        break\n",
    "    if nilai >= 75 and nilai <= 80:\n",
    "        print(\"Maka Grade anda B, dan anda dinyatakan lulus\")\n",
    "        break\n",
    "    if nilai >= 60 and nilai <= 74:\n",
    "        print(\"Maka Grade anda C, dan anda dinyatakan lulus\")\n",
    "        break\n",
    "    elif nilai >= 0 and nilai <= 59:\n",
    "        print(\"Maka Grade anda D, dan anda dinyatakan tidak lulus\")\n",
    "        break\n",
    "    else:\n",
    "        print(\"Masukan nilai dengan benar\")\n",
    "        break"
   ]
  },
  {
   "cell_type": "code",
   "execution_count": 43,
   "metadata": {},
   "outputs": [
    {
     "name": "stdout",
     "output_type": "stream",
     "text": [
      "Masukkan harga barang = 120000\n",
      "Masukkan jumlah barang = 2\n",
      "selamat anda mendapatkan diskon 20%,total bayar =  1920000.0\n"
     ]
    }
   ],
   "source": [
    "#No3C\n",
    "harga = int(input(\"Masukkan harga barang = \"))\n",
    "jumlah = int(input(\"Masukkan jumlah barang = \"))\n",
    "hitung = harga*jumlah\n",
    "discount = hitung / (1/8)\n",
    "if harga >= 100000:\n",
    "    print(\"selamat anda mendapatkan diskon 20%,total bayar = \",discount)\n",
    "else:\n",
    "    print(\"anda tidak mendapatkan discount,total bayar = \",hitung)"
   ]
  },
  {
   "cell_type": "code",
   "execution_count": 20,
   "metadata": {},
   "outputs": [
    {
     "name": "stdout",
     "output_type": "stream",
     "text": [
      "Masukkan No NIK : 3328099909874646\n",
      "Hasil bilangan binernya =  1011110100101110001110100100111001111011001111010110\n",
      "Hasil bilangan oktafnya =  136456164471731726\n",
      "Hasil bilangan hexanya =  bd2e3a4e7b3d6\n",
      "\n",
      "Masukkan No NIK2 : 33289998757483\n",
      "Hasil bilangan binernya =  111100100011011101110100011001110111001101011\n",
      "Hasil bilangan oktafnya =  744335643167153\n",
      "Hasil bilangan hexanya =  1e46ee8cee6b\n",
      "\n",
      "Masukkan No NIK3 : 33280985867444\n",
      "Hasil bilangan binernya =  111100100010011010101010101110010010010110100\n",
      "Hasil bilangan oktafnya =  744232525622264\n",
      "Hasil bilangan hexanya =  1e44d55724b4\n",
      "\n",
      "Masukkan No NIK4 : 3328099867654\n",
      "Hasil bilangan binernya =  110000011011100010001101011101110000000110\n",
      "Hasil bilangan oktafnya =  60334215356006\n",
      "Hasil bilangan hexanya =  306e235dc06\n",
      "\n",
      "Masukkan No NIK5: 238599600330\n",
      "Hasil bilangan binernya =  11011110001101101001001111100011001010\n",
      "Hasil bilangan oktafnya =  3361551174312\n",
      "Hasil bilangan hexanya =  378da4f8ca\n"
     ]
    }
   ],
   "source": [
    "#No4A\n",
    "def convert(bil):\n",
    "    print(\"Hasil bilangan binernya = \",bin(bil) .replace(\"0b\",\"\"))\n",
    "    print(\"Hasil bilangan oktafnya = \",oct(bil) .replace(\"0o\",\"\"))\n",
    "    print(\"Hasil bilangan hexanya = \",hex(bil) .replace(\"0x\",\"\"))\n",
    "    \n",
    "NIK = int(input(\"Masukkan No NIK : \"))\n",
    "convert(NIK)\n",
    "print()\n",
    "NIK2 = int(input(\"Masukkan No NIK2 : \"))\n",
    "convert(NIK2)\n",
    "print()\n",
    "NIK3 = int(input(\"Masukkan No NIK3 : \"))\n",
    "convert(NIK3)\n",
    "print()\n",
    "NIK4 = int(input(\"Masukkan No NIK4 : \"))\n",
    "convert(NIK4)\n",
    "print()\n",
    "NIK5 = int(input(\"Masukkan No NIK5: \"))\n",
    "convert(NIK5)"
   ]
  },
  {
   "cell_type": "code",
   "execution_count": 33,
   "metadata": {},
   "outputs": [
    {
     "name": "stdout",
     "output_type": "stream",
     "text": [
      "Masukkan Passwordnya : 1\n",
      "Hasil bilangan binernya =  1\n",
      "Hasil bilangan oktafnya =  1\n",
      "Hasil bilangan hexanya =  1\n",
      "\n",
      "Masukkan Passwordnya : 12\n",
      "Hasil bilangan binernya =  1100\n",
      "Hasil bilangan oktafnya =  14\n",
      "Hasil bilangan hexanya =  c\n",
      "\n",
      "Masukkan Passwordnya: 123\n",
      "Hasil bilangan binernya =  1111011\n",
      "Hasil bilangan oktafnya =  173\n",
      "Hasil bilangan hexanya =  7b\n",
      "\n",
      "Masukkan Passwordnya : 1234\n",
      "Hasil bilangan binernya =  10011010010\n",
      "Hasil bilangan oktafnya =  2322\n",
      "Hasil bilangan hexanya =  4d2\n",
      "\n",
      "Masukkan Passwordnya : 12345\n",
      "Hasil bilangan binernya =  11000000111001\n",
      "Hasil bilangan oktafnya =  30071\n",
      "Hasil bilangan hexanya =  3039\n"
     ]
    }
   ],
   "source": [
    "#No4C\n",
    "def convert(bil):\n",
    "    print(\"Hasil bilangan binernya = \",bin(bil) .replace(\"0b\",\"\"))\n",
    "    print(\"Hasil bilangan oktafnya = \",oct(bil) .replace(\"0o\",\"\"))\n",
    "    print(\"Hasil bilangan hexanya = \",hex(bil) .replace(\"0x\",\"\"))\n",
    "    \n",
    "PW = int(input(\"Masukkan Passwordnya : \"))\n",
    "convert(PW)\n",
    "print()\n",
    "PW2 = int(input(\"Masukkan Passwordnya : \"))\n",
    "convert(PW2)\n",
    "print()\n",
    "PW3 = int(input(\"Masukkan Passwordnya: \"))\n",
    "convert(PW3)\n",
    "print()\n",
    "PW4 = int(input(\"Masukkan Passwordnya : \"))\n",
    "convert(PW4)\n",
    "print()\n",
    "PW5 = int(input(\"Masukkan Passwordnya : \"))\n",
    "convert(PW5)\n",
    "PW6 = int(input(\"Masukkan Passwordnya : \"))\n",
    "convert(PW6)\n",
    "print()\n",
    "PW7 = int(input(\"Masukkan Passwordnya : \"))\n",
    "convert(PW7)\n",
    "print()\n",
    "PW8 = int(input(\"Masukkan Passwordnya: \"))\n",
    "convert(PW8)\n",
    "print()\n",
    "PW9 = int(input(\"Masukkan Passwordnya : \"))\n",
    "convert(PW9)\n",
    "print()\n",
    "PW10 = int(input(\"Masukkan Passwordnya : \"))\n",
    "convert(PW10)"
   ]
  },
  {
   "cell_type": "code",
   "execution_count": 44,
   "metadata": {},
   "outputs": [
    {
     "name": "stdout",
     "output_type": "stream",
     "text": [
      "Masukkan Bilangan = 10\n",
      "3628800\n"
     ]
    }
   ],
   "source": [
    "#No5AFaktorial\n",
    "def faktorial(a):\n",
    "    if a ==1:\n",
    "        return(a)\n",
    "    else:\n",
    "        return (a*faktorial(a-1))\n",
    "bilangan1 = int(input(\"Masukkan Bilangan = \"))\n",
    "print(faktorial(bilangan1))"
   ]
  },
  {
   "cell_type": "code",
   "execution_count": 22,
   "metadata": {},
   "outputs": [
    {
     "name": "stdout",
     "output_type": "stream",
     "text": [
      "Hasil deret fibonaccinya adalah \n",
      "0 1 1 2 3 5 8 13 21 34 "
     ]
    }
   ],
   "source": [
    "#No5AFibonacci\n",
    "a = 10\n",
    "def x(a):\n",
    "    if a == 0 or a == 1:\n",
    "        return a\n",
    "    else :\n",
    "        return(x(a-1)+x(a-2))\n",
    "print(\"Hasil deret fibonaccinya adalah \")\n",
    "for i in range(a):\n",
    "    print(x(i),end=' ')"
   ]
  },
  {
   "cell_type": "code",
   "execution_count": null,
   "metadata": {},
   "outputs": [
    {
     "name": "stderr",
     "output_type": "stream",
     "text": [
      "ERROR:root:Internal Python error in the inspect module.\n",
      "Below is the traceback from this internal error.\n",
      "\n"
     ]
    },
    {
     "name": "stdout",
     "output_type": "stream",
     "text": [
      "Traceback (most recent call last):\n",
      "  File \"/home/faizal/anaconda3/lib/python3.8/site-packages/IPython/core/interactiveshell.py\", line 3418, in run_code\n",
      "    exec(code_obj, self.user_global_ns, self.user_ns)\n",
      "  File \"<ipython-input-49-995e8326b314>\", line 9, in <module>\n",
      "    print(faktorial(a))\n",
      "  File \"<ipython-input-49-995e8326b314>\", line 8, in faktorial\n",
      "    return (a*faktorial(a-1))\n",
      "  File \"<ipython-input-49-995e8326b314>\", line 8, in faktorial\n",
      "    return (a*faktorial(a-1))\n",
      "  File \"<ipython-input-49-995e8326b314>\", line 8, in faktorial\n",
      "    return (a*faktorial(a-1))\n",
      "  [Previous line repeated 2959 more times]\n",
      "  File \"<ipython-input-49-995e8326b314>\", line 5, in faktorial\n",
      "    if a ==1:\n",
      "RecursionError: maximum recursion depth exceeded in comparison\n",
      "\n",
      "During handling of the above exception, another exception occurred:\n",
      "\n",
      "Traceback (most recent call last):\n",
      "  File \"/home/faizal/anaconda3/lib/python3.8/site-packages/IPython/core/interactiveshell.py\", line 2045, in showtraceback\n",
      "    stb = value._render_traceback_()\n",
      "AttributeError: 'RecursionError' object has no attribute '_render_traceback_'\n",
      "\n",
      "During handling of the above exception, another exception occurred:\n",
      "\n",
      "Traceback (most recent call last):\n",
      "  File \"/home/faizal/anaconda3/lib/python3.8/site-packages/IPython/core/ultratb.py\", line 1170, in get_records\n",
      "    return _fixed_getinnerframes(etb, number_of_lines_of_context, tb_offset)\n",
      "  File \"/home/faizal/anaconda3/lib/python3.8/site-packages/IPython/core/ultratb.py\", line 316, in wrapped\n",
      "    return f(*args, **kwargs)\n",
      "  File \"/home/faizal/anaconda3/lib/python3.8/site-packages/IPython/core/ultratb.py\", line 350, in _fixed_getinnerframes\n",
      "    records = fix_frame_records_filenames(inspect.getinnerframes(etb, context))\n",
      "  File \"/home/faizal/anaconda3/lib/python3.8/inspect.py\", line 1503, in getinnerframes\n",
      "    frameinfo = (tb.tb_frame,) + getframeinfo(tb, context)\n",
      "  File \"/home/faizal/anaconda3/lib/python3.8/inspect.py\", line 1461, in getframeinfo\n",
      "    filename = getsourcefile(frame) or getfile(frame)\n",
      "  File \"/home/faizal/anaconda3/lib/python3.8/inspect.py\", line 708, in getsourcefile\n",
      "    if getattr(getmodule(object, filename), '__loader__', None) is not None:\n",
      "  File \"/home/faizal/anaconda3/lib/python3.8/inspect.py\", line 744, in getmodule\n",
      "    for modname, module in sys.modules.copy().items():\n",
      "KeyboardInterrupt\n"
     ]
    },
    {
     "name": "stderr",
     "output_type": "stream",
     "text": [
      "ERROR:root:Internal Python error in the inspect module.\n",
      "Below is the traceback from this internal error.\n",
      "\n"
     ]
    },
    {
     "name": "stdout",
     "output_type": "stream",
     "text": [
      "Traceback (most recent call last):\n",
      "  File \"/home/faizal/anaconda3/lib/python3.8/site-packages/IPython/core/interactiveshell.py\", line 3418, in run_code\n",
      "    exec(code_obj, self.user_global_ns, self.user_ns)\n",
      "  File \"<ipython-input-49-995e8326b314>\", line 9, in <module>\n",
      "    print(faktorial(a))\n",
      "  File \"<ipython-input-49-995e8326b314>\", line 8, in faktorial\n",
      "    return (a*faktorial(a-1))\n",
      "  File \"<ipython-input-49-995e8326b314>\", line 8, in faktorial\n",
      "    return (a*faktorial(a-1))\n",
      "  File \"<ipython-input-49-995e8326b314>\", line 8, in faktorial\n",
      "    return (a*faktorial(a-1))\n",
      "  [Previous line repeated 2959 more times]\n",
      "  File \"<ipython-input-49-995e8326b314>\", line 5, in faktorial\n",
      "    if a ==1:\n",
      "RecursionError: maximum recursion depth exceeded in comparison\n",
      "\n",
      "During handling of the above exception, another exception occurred:\n",
      "\n",
      "Traceback (most recent call last):\n",
      "  File \"/home/faizal/anaconda3/lib/python3.8/site-packages/IPython/core/interactiveshell.py\", line 2045, in showtraceback\n",
      "    stb = value._render_traceback_()\n",
      "AttributeError: 'RecursionError' object has no attribute '_render_traceback_'\n",
      "\n",
      "During handling of the above exception, another exception occurred:\n",
      "\n",
      "Traceback (most recent call last):\n",
      "  File \"/home/faizal/anaconda3/lib/python3.8/site-packages/IPython/core/interactiveshell.py\", line 3338, in run_ast_nodes\n",
      "    if (await self.run_code(code, result,  async_=asy)):\n",
      "  File \"/home/faizal/anaconda3/lib/python3.8/site-packages/IPython/core/interactiveshell.py\", line 3435, in run_code\n",
      "    self.showtraceback(running_compiled_code=True)\n",
      "  File \"/home/faizal/anaconda3/lib/python3.8/site-packages/IPython/core/interactiveshell.py\", line 2047, in showtraceback\n",
      "    stb = self.InteractiveTB.structured_traceback(etype,\n",
      "  File \"/home/faizal/anaconda3/lib/python3.8/site-packages/IPython/core/ultratb.py\", line 1436, in structured_traceback\n",
      "    return FormattedTB.structured_traceback(\n",
      "  File \"/home/faizal/anaconda3/lib/python3.8/site-packages/IPython/core/ultratb.py\", line 1336, in structured_traceback\n",
      "    return VerboseTB.structured_traceback(\n",
      "  File \"/home/faizal/anaconda3/lib/python3.8/site-packages/IPython/core/ultratb.py\", line 1193, in structured_traceback\n",
      "    formatted_exception = self.format_exception_as_a_whole(etype, evalue, etb, number_of_lines_of_context,\n",
      "  File \"/home/faizal/anaconda3/lib/python3.8/site-packages/IPython/core/ultratb.py\", line 1151, in format_exception_as_a_whole\n",
      "    last_unique, recursion_repeat = find_recursion(orig_etype, evalue, records)\n",
      "  File \"/home/faizal/anaconda3/lib/python3.8/site-packages/IPython/core/ultratb.py\", line 450, in find_recursion\n",
      "    if not is_recursion_error(etype, value, records):\n",
      "  File \"/home/faizal/anaconda3/lib/python3.8/site-packages/IPython/core/ultratb.py\", line 437, in is_recursion_error\n",
      "    and len(records) > _FRAME_RECURSION_LIMIT\n",
      "TypeError: object of type 'NoneType' has no len()\n",
      "\n",
      "During handling of the above exception, another exception occurred:\n",
      "\n",
      "Traceback (most recent call last):\n",
      "  File \"/home/faizal/anaconda3/lib/python3.8/site-packages/IPython/core/interactiveshell.py\", line 2045, in showtraceback\n",
      "    stb = value._render_traceback_()\n",
      "AttributeError: 'TypeError' object has no attribute '_render_traceback_'\n",
      "\n",
      "During handling of the above exception, another exception occurred:\n",
      "\n",
      "Traceback (most recent call last):\n",
      "  File \"/home/faizal/anaconda3/lib/python3.8/site-packages/IPython/core/ultratb.py\", line 1170, in get_records\n",
      "    return _fixed_getinnerframes(etb, number_of_lines_of_context, tb_offset)\n",
      "  File \"/home/faizal/anaconda3/lib/python3.8/site-packages/IPython/core/ultratb.py\", line 316, in wrapped\n",
      "    return f(*args, **kwargs)\n",
      "  File \"/home/faizal/anaconda3/lib/python3.8/site-packages/IPython/core/ultratb.py\", line 350, in _fixed_getinnerframes\n",
      "    records = fix_frame_records_filenames(inspect.getinnerframes(etb, context))\n",
      "  File \"/home/faizal/anaconda3/lib/python3.8/inspect.py\", line 1503, in getinnerframes\n",
      "    frameinfo = (tb.tb_frame,) + getframeinfo(tb, context)\n",
      "  File \"/home/faizal/anaconda3/lib/python3.8/inspect.py\", line 1465, in getframeinfo\n",
      "    lines, lnum = findsource(frame)\n",
      "  File \"/home/faizal/anaconda3/lib/python3.8/site-packages/IPython/core/ultratb.py\", line 170, in findsource\n",
      "    file = getsourcefile(object) or getfile(object)\n",
      "  File \"/home/faizal/anaconda3/lib/python3.8/inspect.py\", line 708, in getsourcefile\n",
      "    if getattr(getmodule(object, filename), '__loader__', None) is not None:\n",
      "  File \"/home/faizal/anaconda3/lib/python3.8/inspect.py\", line 747, in getmodule\n",
      "    if f == _filesbymodname.get(modname, None):\n",
      "KeyboardInterrupt\n"
     ]
    },
    {
     "name": "stderr",
     "output_type": "stream",
     "text": [
      "ERROR:root:Internal Python error in the inspect module.\n",
      "Below is the traceback from this internal error.\n",
      "\n"
     ]
    },
    {
     "name": "stdout",
     "output_type": "stream",
     "text": [
      "Traceback (most recent call last):\n",
      "  File \"/home/faizal/anaconda3/lib/python3.8/site-packages/IPython/core/interactiveshell.py\", line 3418, in run_code\n",
      "    exec(code_obj, self.user_global_ns, self.user_ns)\n",
      "  File \"<ipython-input-49-995e8326b314>\", line 9, in <module>\n",
      "    print(faktorial(a))\n",
      "  File \"<ipython-input-49-995e8326b314>\", line 8, in faktorial\n",
      "    return (a*faktorial(a-1))\n",
      "  File \"<ipython-input-49-995e8326b314>\", line 8, in faktorial\n",
      "    return (a*faktorial(a-1))\n",
      "  File \"<ipython-input-49-995e8326b314>\", line 8, in faktorial\n",
      "    return (a*faktorial(a-1))\n",
      "  [Previous line repeated 2959 more times]\n",
      "  File \"<ipython-input-49-995e8326b314>\", line 5, in faktorial\n",
      "    if a ==1:\n",
      "RecursionError: maximum recursion depth exceeded in comparison\n",
      "\n",
      "During handling of the above exception, another exception occurred:\n",
      "\n",
      "Traceback (most recent call last):\n",
      "  File \"/home/faizal/anaconda3/lib/python3.8/site-packages/IPython/core/interactiveshell.py\", line 2045, in showtraceback\n",
      "    stb = value._render_traceback_()\n",
      "AttributeError: 'RecursionError' object has no attribute '_render_traceback_'\n",
      "\n",
      "During handling of the above exception, another exception occurred:\n",
      "\n",
      "Traceback (most recent call last):\n",
      "  File \"/home/faizal/anaconda3/lib/python3.8/site-packages/IPython/core/interactiveshell.py\", line 3338, in run_ast_nodes\n",
      "    if (await self.run_code(code, result,  async_=asy)):\n",
      "  File \"/home/faizal/anaconda3/lib/python3.8/site-packages/IPython/core/interactiveshell.py\", line 3435, in run_code\n",
      "    self.showtraceback(running_compiled_code=True)\n",
      "  File \"/home/faizal/anaconda3/lib/python3.8/site-packages/IPython/core/interactiveshell.py\", line 2047, in showtraceback\n",
      "    stb = self.InteractiveTB.structured_traceback(etype,\n",
      "  File \"/home/faizal/anaconda3/lib/python3.8/site-packages/IPython/core/ultratb.py\", line 1436, in structured_traceback\n",
      "    return FormattedTB.structured_traceback(\n",
      "  File \"/home/faizal/anaconda3/lib/python3.8/site-packages/IPython/core/ultratb.py\", line 1336, in structured_traceback\n",
      "    return VerboseTB.structured_traceback(\n",
      "  File \"/home/faizal/anaconda3/lib/python3.8/site-packages/IPython/core/ultratb.py\", line 1193, in structured_traceback\n",
      "    formatted_exception = self.format_exception_as_a_whole(etype, evalue, etb, number_of_lines_of_context,\n",
      "  File \"/home/faizal/anaconda3/lib/python3.8/site-packages/IPython/core/ultratb.py\", line 1151, in format_exception_as_a_whole\n",
      "    last_unique, recursion_repeat = find_recursion(orig_etype, evalue, records)\n",
      "  File \"/home/faizal/anaconda3/lib/python3.8/site-packages/IPython/core/ultratb.py\", line 450, in find_recursion\n",
      "    if not is_recursion_error(etype, value, records):\n",
      "  File \"/home/faizal/anaconda3/lib/python3.8/site-packages/IPython/core/ultratb.py\", line 437, in is_recursion_error\n",
      "    and len(records) > _FRAME_RECURSION_LIMIT\n",
      "TypeError: object of type 'NoneType' has no len()\n",
      "\n",
      "During handling of the above exception, another exception occurred:\n",
      "\n",
      "Traceback (most recent call last):\n",
      "  File \"/home/faizal/anaconda3/lib/python3.8/site-packages/IPython/core/interactiveshell.py\", line 2045, in showtraceback\n",
      "    stb = value._render_traceback_()\n",
      "AttributeError: 'TypeError' object has no attribute '_render_traceback_'\n",
      "\n",
      "During handling of the above exception, another exception occurred:\n",
      "\n",
      "Traceback (most recent call last):\n",
      "  File \"/home/faizal/anaconda3/lib/python3.8/site-packages/IPython/core/interactiveshell.py\", line 2923, in _run_cell\n",
      "    return runner(coro)\n",
      "  File \"/home/faizal/anaconda3/lib/python3.8/site-packages/IPython/core/async_helpers.py\", line 68, in _pseudo_sync_runner\n",
      "    coro.send(None)\n",
      "  File \"/home/faizal/anaconda3/lib/python3.8/site-packages/IPython/core/interactiveshell.py\", line 3146, in run_cell_async\n",
      "    has_raised = await self.run_ast_nodes(code_ast.body, cell_name,\n",
      "  File \"/home/faizal/anaconda3/lib/python3.8/site-packages/IPython/core/interactiveshell.py\", line 3357, in run_ast_nodes\n",
      "    self.showtraceback()\n",
      "  File \"/home/faizal/anaconda3/lib/python3.8/site-packages/IPython/core/interactiveshell.py\", line 2047, in showtraceback\n",
      "    stb = self.InteractiveTB.structured_traceback(etype,\n",
      "  File \"/home/faizal/anaconda3/lib/python3.8/site-packages/IPython/core/ultratb.py\", line 1436, in structured_traceback\n",
      "    return FormattedTB.structured_traceback(\n",
      "  File \"/home/faizal/anaconda3/lib/python3.8/site-packages/IPython/core/ultratb.py\", line 1336, in structured_traceback\n",
      "    return VerboseTB.structured_traceback(\n",
      "  File \"/home/faizal/anaconda3/lib/python3.8/site-packages/IPython/core/ultratb.py\", line 1211, in structured_traceback\n",
      "    formatted_exceptions += self.format_exception_as_a_whole(etype, evalue, etb, lines_of_context,\n",
      "  File \"/home/faizal/anaconda3/lib/python3.8/site-packages/IPython/core/ultratb.py\", line 1151, in format_exception_as_a_whole\n",
      "    last_unique, recursion_repeat = find_recursion(orig_etype, evalue, records)\n",
      "  File \"/home/faizal/anaconda3/lib/python3.8/site-packages/IPython/core/ultratb.py\", line 450, in find_recursion\n",
      "    if not is_recursion_error(etype, value, records):\n",
      "  File \"/home/faizal/anaconda3/lib/python3.8/site-packages/IPython/core/ultratb.py\", line 437, in is_recursion_error\n",
      "    and len(records) > _FRAME_RECURSION_LIMIT\n",
      "TypeError: object of type 'NoneType' has no len()\n",
      "\n",
      "During handling of the above exception, another exception occurred:\n",
      "\n",
      "Traceback (most recent call last):\n",
      "  File \"/home/faizal/anaconda3/lib/python3.8/site-packages/IPython/core/interactiveshell.py\", line 2045, in showtraceback\n",
      "    stb = value._render_traceback_()\n",
      "AttributeError: 'TypeError' object has no attribute '_render_traceback_'\n",
      "\n",
      "During handling of the above exception, another exception occurred:\n",
      "\n",
      "Traceback (most recent call last):\n",
      "  File \"/home/faizal/anaconda3/lib/python3.8/site-packages/IPython/core/ultratb.py\", line 1170, in get_records\n",
      "    return _fixed_getinnerframes(etb, number_of_lines_of_context, tb_offset)\n",
      "  File \"/home/faizal/anaconda3/lib/python3.8/site-packages/IPython/core/ultratb.py\", line 316, in wrapped\n",
      "    return f(*args, **kwargs)\n",
      "  File \"/home/faizal/anaconda3/lib/python3.8/site-packages/IPython/core/ultratb.py\", line 350, in _fixed_getinnerframes\n",
      "    records = fix_frame_records_filenames(inspect.getinnerframes(etb, context))\n",
      "  File \"/home/faizal/anaconda3/lib/python3.8/inspect.py\", line 1503, in getinnerframes\n",
      "    frameinfo = (tb.tb_frame,) + getframeinfo(tb, context)\n",
      "  File \"/home/faizal/anaconda3/lib/python3.8/inspect.py\", line 1465, in getframeinfo\n",
      "    lines, lnum = findsource(frame)\n",
      "  File \"/home/faizal/anaconda3/lib/python3.8/site-packages/IPython/core/ultratb.py\", line 170, in findsource\n",
      "    file = getsourcefile(object) or getfile(object)\n",
      "  File \"/home/faizal/anaconda3/lib/python3.8/inspect.py\", line 708, in getsourcefile\n",
      "    if getattr(getmodule(object, filename), '__loader__', None) is not None:\n",
      "  File \"/home/faizal/anaconda3/lib/python3.8/inspect.py\", line 745, in getmodule\n",
      "    if ismodule(module) and hasattr(module, '__file__'):\n",
      "KeyboardInterrupt\n"
     ]
    }
   ],
   "source": [
    "#No5CFaktorial\n",
    "#\n",
    "a = 20\n",
    "def faktorial(a):\n",
    "    if a ==1:\n",
    "        return(a)\n",
    "    else:\n",
    "        return (a*faktorial(a-1))\n",
    "print(faktorial(a))"
   ]
  },
  {
   "cell_type": "code",
   "execution_count": 48,
   "metadata": {},
   "outputs": [
    {
     "name": "stdout",
     "output_type": "stream",
     "text": [
      "Hasil deret fibonaccinya adalah \n",
      "0 1 1 2 3 5 8 13 21 34 55 89 144 233 377 610 987 1597 2584 4181 "
     ]
    }
   ],
   "source": [
    "#No5CFibonacci\n",
    "#jika menggunakan no hp angkanya terlalu banyak,20 sebagai contoh\n",
    "a = 20\n",
    "def x(a):\n",
    "    if a == 0 or a == 1:\n",
    "        return a\n",
    "    else :\n",
    "        return(x(a-1)+x(a-2))\n",
    "print(\"Hasil deret fibonaccinya adalah \")\n",
    "for i in range(a):\n",
    "    print(x(i),end=' ')"
   ]
  },
  {
   "cell_type": "code",
   "execution_count": null,
   "metadata": {},
   "outputs": [],
   "source": []
  }
 ],
 "metadata": {
  "kernelspec": {
   "display_name": "Python 3",
   "language": "python",
   "name": "python3"
  },
  "language_info": {
   "codemirror_mode": {
    "name": "ipython",
    "version": 3
   },
   "file_extension": ".py",
   "mimetype": "text/x-python",
   "name": "python",
   "nbconvert_exporter": "python",
   "pygments_lexer": "ipython3",
   "version": "3.8.5"
  }
 },
 "nbformat": 4,
 "nbformat_minor": 4
}
